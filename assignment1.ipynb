{
 "cells": [
  {
   "cell_type": "code",
   "execution_count": 1,
   "metadata": {
    "collapsed": false
   },
   "outputs": [
    {
     "data": {
      "text/html": [
       "<div>\n",
       "<table border=\"1\" class=\"dataframe\">\n",
       "  <thead>\n",
       "    <tr style=\"text-align: right;\">\n",
       "      <th></th>\n",
       "      <th>user_id</th>\n",
       "      <th>movie_id</th>\n",
       "      <th>rating</th>\n",
       "      <th>timestamp</th>\n",
       "      <th>gender</th>\n",
       "      <th>age</th>\n",
       "      <th>occupation</th>\n",
       "      <th>zip</th>\n",
       "      <th>title</th>\n",
       "      <th>genres</th>\n",
       "    </tr>\n",
       "  </thead>\n",
       "  <tbody>\n",
       "    <tr>\n",
       "      <th>0</th>\n",
       "      <td>1</td>\n",
       "      <td>1193</td>\n",
       "      <td>5</td>\n",
       "      <td>978300760</td>\n",
       "      <td>F</td>\n",
       "      <td>1</td>\n",
       "      <td>10</td>\n",
       "      <td>48067</td>\n",
       "      <td>One Flew Over the Cuckoo's Nest (1975)</td>\n",
       "      <td>Drama</td>\n",
       "    </tr>\n",
       "  </tbody>\n",
       "</table>\n",
       "</div>"
      ],
      "text/plain": [
       "   user_id  movie_id  rating  timestamp gender  age  occupation    zip  \\\n",
       "0        1      1193       5  978300760      F    1          10  48067   \n",
       "\n",
       "                                    title genres  \n",
       "0  One Flew Over the Cuckoo's Nest (1975)  Drama  "
      ]
     },
     "execution_count": 1,
     "metadata": {},
     "output_type": "execute_result"
    }
   ],
   "source": [
    "import pandas as pd\n",
    "unames = ['user_id', 'gender', 'age', 'occupation', 'zip']\n",
    "users = pd.read_table('ml-1m/users.dat', sep='::', header=None, names=unames, engine='python')\n",
    "\n",
    "rnames = ['user_id', 'movie_id', 'rating', 'timestamp']\n",
    "ratings = pd.read_table('ml-1m/ratings.dat', sep='::', header=None, names=rnames, engine='python')\n",
    "\n",
    "mnames = ['movie_id', 'title', 'genres']\n",
    "movies = pd.read_table('ml-1m/movies.dat', sep='::', header=None, names=mnames, engine='python')\n",
    "\n",
    "data = pd.merge(pd.merge(ratings, users), movies)\n",
    "\n",
    "data.head(1)"
   ]
  },
  {
   "cell_type": "code",
   "execution_count": 2,
   "metadata": {
    "collapsed": false
   },
   "outputs": [
    {
     "data": {
      "text/plain": [
       "genres\n",
       "Action                                           3.354886\n",
       "Action|Adventure                                 3.676814\n",
       "Action|Adventure|Animation                       4.147826\n",
       "Action|Adventure|Animation|Children's|Fantasy    2.703704\n",
       "Action|Adventure|Animation|Horror|Sci-Fi         3.546926\n",
       "Name: rating, dtype: float64"
      ]
     },
     "execution_count": 2,
     "metadata": {},
     "output_type": "execute_result"
    }
   ],
   "source": [
    "# Q1: An aggregate of the movie ratings for each particular genre. \n",
    "mean_ratings = data.pivot_table('rating', index='genres', aggfunc='mean')\n",
    "\n",
    "mean_ratings[:5]"
   ]
  },
  {
   "cell_type": "code",
   "execution_count": 3,
   "metadata": {
    "collapsed": false
   },
   "outputs": [
    {
     "data": {
      "text/html": [
       "<div>\n",
       "<table border=\"1\" class=\"dataframe\">\n",
       "  <thead>\n",
       "    <tr style=\"text-align: right;\">\n",
       "      <th></th>\n",
       "      <th>rating</th>\n",
       "    </tr>\n",
       "    <tr>\n",
       "      <th>genres</th>\n",
       "      <th></th>\n",
       "    </tr>\n",
       "  </thead>\n",
       "  <tbody>\n",
       "    <tr>\n",
       "      <th>Animation|Comedy|Thriller</th>\n",
       "      <td>4.550802</td>\n",
       "    </tr>\n",
       "    <tr>\n",
       "      <th>Animation</th>\n",
       "      <td>4.533333</td>\n",
       "    </tr>\n",
       "    <tr>\n",
       "      <th>Film-Noir|Romance|Thriller</th>\n",
       "      <td>4.448718</td>\n",
       "    </tr>\n",
       "    <tr>\n",
       "      <th>Sci-Fi|War</th>\n",
       "      <td>4.376623</td>\n",
       "    </tr>\n",
       "    <tr>\n",
       "      <th>Adventure|Children's|Drama|Musical</th>\n",
       "      <td>4.355030</td>\n",
       "    </tr>\n",
       "  </tbody>\n",
       "</table>\n",
       "</div>"
      ],
      "text/plain": [
       "                                      rating\n",
       "genres                                      \n",
       "Animation|Comedy|Thriller           4.550802\n",
       "Animation                           4.533333\n",
       "Film-Noir|Romance|Thriller          4.448718\n",
       "Sci-Fi|War                          4.376623\n",
       "Adventure|Children's|Drama|Musical  4.355030"
      ]
     },
     "execution_count": 3,
     "metadata": {},
     "output_type": "execute_result"
    }
   ],
   "source": [
    "import numpy as np\n",
    "# Q2: The top 5 highest ranked genre by women. \n",
    "movie_stats = data[data['gender'] == 'F'].groupby('genres').agg({'rating': np.mean})\n",
    "movie_stats.sort_values(['rating'], ascending=False).head()"
   ]
  },
  {
   "cell_type": "code",
   "execution_count": 5,
   "metadata": {
    "collapsed": false
   },
   "outputs": [
    {
     "data": {
      "text/html": [
       "<div>\n",
       "<table border=\"1\" class=\"dataframe\">\n",
       "  <thead>\n",
       "    <tr style=\"text-align: right;\">\n",
       "      <th></th>\n",
       "      <th>rating</th>\n",
       "    </tr>\n",
       "    <tr>\n",
       "      <th>genres</th>\n",
       "      <th></th>\n",
       "    </tr>\n",
       "  </thead>\n",
       "  <tbody>\n",
       "    <tr>\n",
       "      <th>Sci-Fi|War</th>\n",
       "      <td>4.464789</td>\n",
       "    </tr>\n",
       "    <tr>\n",
       "      <th>Animation|Comedy|Thriller</th>\n",
       "      <td>4.445110</td>\n",
       "    </tr>\n",
       "    <tr>\n",
       "      <th>Film-Noir|Mystery</th>\n",
       "      <td>4.381536</td>\n",
       "    </tr>\n",
       "    <tr>\n",
       "      <th>Adventure|War</th>\n",
       "      <td>4.376633</td>\n",
       "    </tr>\n",
       "    <tr>\n",
       "      <th>Animation</th>\n",
       "      <td>4.353107</td>\n",
       "    </tr>\n",
       "  </tbody>\n",
       "</table>\n",
       "</div>"
      ],
      "text/plain": [
       "                             rating\n",
       "genres                             \n",
       "Sci-Fi|War                 4.464789\n",
       "Animation|Comedy|Thriller  4.445110\n",
       "Film-Noir|Mystery          4.381536\n",
       "Adventure|War              4.376633\n",
       "Animation                  4.353107"
      ]
     },
     "execution_count": 5,
     "metadata": {},
     "output_type": "execute_result"
    }
   ],
   "source": [
    "# Q3: The top 5 highest ranked genre by men. \n",
    "movie_stats = data[data['gender'] == 'M'].groupby('genres').agg({'rating': np.mean})\n",
    "movie_stats.sort_values(['rating'], ascending=False).head()"
   ]
  },
  {
   "cell_type": "code",
   "execution_count": 6,
   "metadata": {
    "collapsed": false
   },
   "outputs": [
    {
     "data": {
      "text/html": [
       "<div>\n",
       "<table border=\"1\" class=\"dataframe\">\n",
       "  <thead>\n",
       "    <tr style=\"text-align: right;\">\n",
       "      <th></th>\n",
       "      <th>average rating</th>\n",
       "    </tr>\n",
       "    <tr>\n",
       "      <th>age_group</th>\n",
       "      <th></th>\n",
       "    </tr>\n",
       "  </thead>\n",
       "  <tbody>\n",
       "    <tr>\n",
       "      <th>0-9</th>\n",
       "      <td>3.085714</td>\n",
       "    </tr>\n",
       "    <tr>\n",
       "      <th>10-19</th>\n",
       "      <td>3.693694</td>\n",
       "    </tr>\n",
       "    <tr>\n",
       "      <th>20-29</th>\n",
       "      <td>3.463768</td>\n",
       "    </tr>\n",
       "    <tr>\n",
       "      <th>30-39</th>\n",
       "      <td>3.438776</td>\n",
       "    </tr>\n",
       "    <tr>\n",
       "      <th>40-49</th>\n",
       "      <td>3.368421</td>\n",
       "    </tr>\n",
       "    <tr>\n",
       "      <th>50-59</th>\n",
       "      <td>3.305556</td>\n",
       "    </tr>\n",
       "    <tr>\n",
       "      <th>60-69</th>\n",
       "      <td>NaN</td>\n",
       "    </tr>\n",
       "    <tr>\n",
       "      <th>70-79</th>\n",
       "      <td>NaN</td>\n",
       "    </tr>\n",
       "  </tbody>\n",
       "</table>\n",
       "</div>"
      ],
      "text/plain": [
       "           average rating\n",
       "age_group                \n",
       "0-9              3.085714\n",
       "10-19            3.693694\n",
       "20-29            3.463768\n",
       "30-39            3.438776\n",
       "40-49            3.368421\n",
       "50-59            3.305556\n",
       "60-69                 NaN\n",
       "70-79                 NaN"
      ]
     },
     "execution_count": 6,
     "metadata": {},
     "output_type": "execute_result"
    }
   ],
   "source": [
    "# Q4: A breakdown of a movie’s ratings by age, use any movie of your choice.\n",
    "# Here I use movie_id = 661 as the target movie\n",
    "labels = ['0-9', '10-19', '20-29', '30-39', '40-49', '50-59', '60-69', '70-79']\n",
    "data['age_group'] = pd.cut(data.age, range(0, 81, 10), right=False, labels=labels)\n",
    "data[data['movie_id'] == 661].groupby('age_group')['rating'].agg({'average rating': np.mean})"
   ]
  },
  {
   "cell_type": "code",
   "execution_count": 10,
   "metadata": {
    "collapsed": false
   },
   "outputs": [
    {
     "name": "stdout",
     "output_type": "stream",
     "text": [
      "[2, 17, 19, 24, 33, 39, 53, 54, 58, 81, 88, 89, 95, 102, 107, 120, 123, 131, 150, 155, 166, 169, 175, 180, 190, 195, 208, 235, 236, 259, 261, 265, 266, 270, 281, 287, 292, 293, 297, 299, 300, 301, 306, 307, 315, 319, 327, 332, 334, 339, 352, 355, 357, 361, 409, 424, 425, 437, 438, 439, 440, 442, 445, 451, 453, 462, 477, 480, 482, 489, 491, 502, 504, 505, 507, 515, 516, 520, 524, 526, 529, 537, 549, 550, 551, 558, 560, 582, 588, 599, 611, 622, 626, 637, 650, 661, 671, 673, 677, 679, 681, 682, 692, 701, 710, 711, 743, 744, 746, 752, 760, 764, 770, 771, 774, 784, 785, 791, 833, 839, 840, 841, 843, 846, 870, 900, 919, 928, 935, 946, 957, 965, 980, 983, 994, 1010, 1015, 1017, 1018, 1019, 1027, 1028, 1035, 1036, 1038, 1040, 1048, 1058, 1062, 1068, 1077, 1084, 1088, 1098, 1099, 1101, 1105, 1108, 1113, 1117, 1121, 1124, 1133, 1134, 1165, 1170, 1172, 1178, 1180, 1182, 1197, 1202, 1203, 1211, 1216, 1218, 1224, 1225, 1228, 1239, 1243, 1260, 1264, 1267, 1273, 1285, 1289, 1303, 1305, 1324, 1331, 1332, 1333, 1343, 1349, 1383, 1390, 1399, 1411, 1422, 1423, 1437, 1440, 1446, 1447, 1448, 1449, 1451, 1457, 1475, 1477, 1482, 1517, 1530, 1536, 1551, 1552, 1569, 1590, 1591, 1592, 1609, 1613, 1614, 1618, 1628, 1631, 1638, 1639, 1660, 1676, 1680, 1681, 1694, 1701, 1702, 1720, 1739, 1741, 1742, 1744, 1753, 1758, 1760, 1768, 1780, 1800, 1802, 1812, 1820, 1824, 1828, 1836, 1842, 1843, 1863, 1869, 1877, 1882, 1884, 1894, 1899, 1909, 1911, 1914, 1928, 1940, 1946, 1947, 1952, 1959, 1969, 1980, 1981, 1988, 1991, 1996, 1998, 1999, 2000, 2007, 2008, 2010, 2015, 2018, 2020, 2030, 2038, 2039, 2047, 2050, 2064, 2073, 2083, 2084, 2100, 2102, 2109, 2122, 2140, 2153, 2154, 2165, 2176, 2181, 2185, 2200, 2201, 2208, 2210, 2219, 2222, 2231, 2237, 2243, 2244, 2253, 2259, 2264, 2275, 2281, 2301, 2303, 2313, 2324, 2331, 2332, 2334, 2338, 2340, 2345, 2348, 2368, 2406, 2410, 2417, 2421, 2449, 2451, 2462, 2465, 2470, 2472, 2481, 2485, 2489, 2496, 2497, 2507, 2532, 2534, 2535, 2543, 2544, 2547, 2565, 2569, 2590, 2604, 2607, 2608, 2611, 2619, 2624, 2626, 2638, 2641, 2643, 2650, 2652, 2665, 2670, 2673, 2691, 2694, 2700, 2704, 2733, 2750, 2751, 2752, 2757, 2762, 2765, 2766, 2773, 2786, 2788, 2790, 2793, 2803, 2814, 2825, 2831, 2838, 2843, 2854, 2855, 2859, 2860, 2878, 2889, 2892, 2893, 2901, 2909, 2914, 2928, 2929, 2942, 2946, 2952, 2957, 2963, 2964, 2967, 2974, 2975, 2978, 2989, 2990, 3000, 3001, 3002, 3005, 3016, 3020, 3038, 3042, 3044, 3054, 3067, 3069, 3075, 3078, 3080, 3081, 3082, 3108, 3129, 3131, 3135, 3136, 3139, 3146, 3159, 3163, 3168, 3172, 3175, 3180, 3182, 3187, 3193, 3198, 3200, 3201, 3204, 3215, 3222, 3224, 3226, 3229, 3233, 3245, 3246, 3251, 3259, 3260, 3271, 3280, 3282, 3284, 3285, 3287, 3292, 3299, 3300, 3301, 3304, 3306, 3310, 3322, 3323, 3336, 3339, 3344, 3346, 3351, 3355, 3359, 3361, 3367, 3369, 3371, 3383, 3391, 3398, 3400, 3403, 3411, 3413, 3415, 3419, 3420, 3425, 3428, 3430, 3462, 3464, 3475, 3478, 3481, 3487, 3493, 3496, 3502, 3503, 3506, 3507, 3514, 3523, 3534, 3538, 3541, 3546, 3551, 3558, 3567, 3588, 3590, 3592, 3596, 3600, 3612, 3621, 3626, 3641, 3647, 3650, 3651, 3653, 3658, 3666, 3668, 3672, 3673, 3674, 3681, 3684, 3685, 3693, 3704, 3721, 3729, 3733, 3735, 3740, 3756, 3764, 3773, 3778, 3785, 3796, 3805, 3811, 3813, 3825, 3830, 3834, 3835, 3840, 3842, 3844, 3848, 3852, 3853, 3854, 3864, 3871, 3877, 3878, 3880, 3889, 3899, 3900, 3912, 3916, 3918, 3930, 3936, 3940, 3945, 3947, 3959, 3963, 3967, 3976, 3978, 3981, 4009, 4019, 4024, 4029, 4040, 4046, 4050, 4058, 4064, 4072, 4081, 4084, 4085, 4088, 4090, 4092, 4093, 4103, 4107, 4118, 4123, 4125, 4129, 4134, 4150, 4152, 4159, 4167, 4169, 4193, 4195, 4204, 4207, 4209, 4210, 4215, 4221, 4233, 4238, 4253, 4271, 4273, 4277, 4286, 4303, 4305, 4310, 4313, 4318, 4324, 4337, 4344, 4356, 4361, 4363, 4364, 4373, 4384, 4386, 4388, 4397, 4404, 4405, 4406, 4408, 4410, 4424, 4429, 4431, 4432, 4442, 4445, 4448, 4457, 4463, 4466, 4469, 4474, 4480, 4482, 4484, 4505, 4506, 4509, 4510, 4513, 4531, 4543, 4556, 4564, 4580, 4589, 4595, 4598, 4607, 4637, 4647, 4666, 4667, 4673, 4682, 4686, 4688, 4701, 4702, 4708, 4715, 4717, 4728, 4745, 4753, 4757, 4761, 4762, 4765, 4771, 4786, 4787, 4802, 4806, 4815, 4820, 4823, 4824, 4825, 4831, 4848, 4852, 4858, 4861, 4867, 4869, 4873, 4882, 4885, 4888, 4898, 4901, 4903, 4904, 4906, 4913, 4921, 4923, 4936, 4945, 4953, 4957, 4962, 4975, 4979, 4983, 4984, 4990, 4991, 5005, 5013, 5015, 5017, 5018, 5021, 5025, 5034, 5038, 5041, 5042, 5057, 5058, 5064, 5065, 5066, 5069, 5070, 5073, 5074, 5077, 5090, 5094, 5095, 5097, 5100, 5110, 5111, 5130, 5134, 5140, 5153, 5156, 5158, 5161, 5163, 5165, 5166, 5168, 5175, 5180, 5185, 5206, 5224, 5233, 5239, 5252, 5261, 5264, 5269, 5277, 5281, 5289, 5290, 5300, 5305, 5317, 5321, 5323, 5329, 5349, 5352, 5353, 5367, 5369, 5371, 5394, 5395, 5397, 5404, 5421, 5423, 5425, 5427, 5428, 5430, 5433, 5441, 5443, 5453, 5454, 5458, 5463, 5468, 5475, 5482, 5502, 5504, 5509, 5520, 5526, 5528, 5541, 5542, 5545, 5550, 5557, 5567, 5577, 5580, 5582, 5596, 5600, 5614, 5616, 5620, 5621, 5626, 5629, 5631, 5639, 5643, 5647, 5650, 5665, 5667, 5676, 5680, 5690, 5695, 5698, 5733, 5734, 5737, 5739, 5744, 5752, 5755, 5757, 5759, 5762, 5763, 5770, 5775, 5777, 5779, 5786, 5790, 5791, 5792, 5795, 5808, 5812, 5815, 5825, 5826, 5838, 5845, 5846, 5848, 5852, 5859, 5865, 5868, 5888, 5890, 5911, 5917, 5920, 5924, 5942, 5948, 5949, 5950, 5954, 5956, 5958, 5962, 5964, 5965, 5975, 5977, 5978, 5986, 6001, 6002, 6021, 6032, 6033, 6035, 6036]\n"
     ]
    }
   ],
   "source": [
    "# Q5: A function that given a user_id and movie_id , returns a list of user_ids for other users \n",
    "# that rated the movie identified by the provided movie_id with the same score. \n",
    "def get_users_with_the_same_score(uid, mid):\n",
    "    movie_rating = data[(data['user_id'] == uid) & (data['movie_id'] == mid)].get_value(0,'rating')\n",
    "    movie_info = data[(data['movie_id'] == mid) & (data['rating'] == movie_rating) & (data['user_id'] != uid)]\n",
    "    return movie_info['user_id'].tolist()\n",
    "\n",
    "print get_users_with_the_same_score(1, 1193)"
   ]
  },
  {
   "cell_type": "code",
   "execution_count": 14,
   "metadata": {
    "collapsed": false
   },
   "outputs": [
    {
     "data": {
      "text/html": [
       "<div>\n",
       "<table border=\"1\" class=\"dataframe\">\n",
       "  <thead>\n",
       "    <tr style=\"text-align: right;\">\n",
       "      <th></th>\n",
       "      <th>rating</th>\n",
       "    </tr>\n",
       "    <tr>\n",
       "      <th>genres</th>\n",
       "      <th></th>\n",
       "    </tr>\n",
       "  </thead>\n",
       "  <tbody>\n",
       "    <tr>\n",
       "      <th>Drama|Fantasy</th>\n",
       "      <td>5.000000</td>\n",
       "    </tr>\n",
       "    <tr>\n",
       "      <th>Children's|Sci-Fi</th>\n",
       "      <td>5.000000</td>\n",
       "    </tr>\n",
       "    <tr>\n",
       "      <th>Action|Adventure|Animation</th>\n",
       "      <td>4.800000</td>\n",
       "    </tr>\n",
       "    <tr>\n",
       "      <th>Animation</th>\n",
       "      <td>4.571429</td>\n",
       "    </tr>\n",
       "    <tr>\n",
       "      <th>Animation|Comedy|Thriller</th>\n",
       "      <td>4.571429</td>\n",
       "    </tr>\n",
       "  </tbody>\n",
       "</table>\n",
       "</div>"
      ],
      "text/plain": [
       "                              rating\n",
       "genres                              \n",
       "Drama|Fantasy               5.000000\n",
       "Children's|Sci-Fi           5.000000\n",
       "Action|Adventure|Animation  4.800000\n",
       "Animation                   4.571429\n",
       "Animation|Comedy|Thriller   4.571429"
      ]
     },
     "execution_count": 14,
     "metadata": {},
     "output_type": "execute_result"
    }
   ],
   "source": [
    "# Q6: Some other statistic, figure, data aggregate, or plot that you created using this dataset, \n",
    "# along with a short description of what interesting observations you derived from it.\n",
    "\n",
    "# Given an occupation id, what's the top 5 most highly rate movie genres for that occupation?\n",
    "data[data['occupation'] == 11].groupby('genres').agg({'rating': np.mean}).sort_values('rating', ascending=False).head()"
   ]
  },
  {
   "cell_type": "markdown",
   "metadata": {},
   "source": [
    "It seems like across different occupations, almost all viewers love Sci-Fi and Animation movies. It's actually pretty reasonable."
   ]
  },
  {
   "cell_type": "code",
   "execution_count": 19,
   "metadata": {
    "collapsed": false
   },
   "outputs": [
    {
     "data": {
      "text/html": [
       "<div>\n",
       "<table border=\"1\" class=\"dataframe\">\n",
       "  <thead>\n",
       "    <tr style=\"text-align: right;\">\n",
       "      <th></th>\n",
       "      <th>rating</th>\n",
       "    </tr>\n",
       "    <tr>\n",
       "      <th>occupation</th>\n",
       "      <th></th>\n",
       "    </tr>\n",
       "  </thead>\n",
       "  <tbody>\n",
       "    <tr>\n",
       "      <th>19</th>\n",
       "      <td>3.414050</td>\n",
       "    </tr>\n",
       "    <tr>\n",
       "      <th>8</th>\n",
       "      <td>3.466741</td>\n",
       "    </tr>\n",
       "    <tr>\n",
       "      <th>20</th>\n",
       "      <td>3.497392</td>\n",
       "    </tr>\n",
       "    <tr>\n",
       "      <th>18</th>\n",
       "      <td>3.530117</td>\n",
       "    </tr>\n",
       "    <tr>\n",
       "      <th>10</th>\n",
       "      <td>3.532675</td>\n",
       "    </tr>\n",
       "  </tbody>\n",
       "</table>\n",
       "</div>"
      ],
      "text/plain": [
       "              rating\n",
       "occupation          \n",
       "19          3.414050\n",
       "8           3.466741\n",
       "20          3.497392\n",
       "18          3.530117\n",
       "10          3.532675"
      ]
     },
     "execution_count": 19,
     "metadata": {},
     "output_type": "execute_result"
    }
   ],
   "source": [
    "# Q6: Some other statistic, figure, data aggregate, or plot that you created using this dataset, \n",
    "# along with a short description of what interesting observations you derived from it.\n",
    "\n",
    "# Show me the top 5 MOST \"generous\" movie grader by occupation\n",
    "data.groupby('occupation').agg({'rating': np.mean}).sort_values('rating', ascending=False)[:5]\n",
    "\n",
    "# Show me the top 5 LEAST \"generous\" movie grader by occupation\n",
    "data.groupby('occupation').agg({'rating': np.mean}).sort_values('rating', ascending=True)[:5]"
   ]
  },
  {
   "cell_type": "markdown",
   "metadata": {},
   "source": [
    "Due to the fact that I cannot retrieve the occupation name from id, I can only conclude that the most \"generous\" grader by occupation is occupation number 13. The average rating is 3.781. \n",
    "\n",
    "The least generous grader goes to occupation number 19. The average rating is 3.414. \n",
    "\n",
    "These are not dramatic differences, but interesting enough results that may cause us attention. It'd be even better if we can have the occupation id - name map."
   ]
  },
  {
   "cell_type": "code",
   "execution_count": null,
   "metadata": {
    "collapsed": true
   },
   "outputs": [],
   "source": []
  }
 ],
 "metadata": {
  "kernelspec": {
   "display_name": "Python [Root]",
   "language": "python",
   "name": "Python [Root]"
  },
  "language_info": {
   "codemirror_mode": {
    "name": "ipython",
    "version": 2
   },
   "file_extension": ".py",
   "mimetype": "text/x-python",
   "name": "python",
   "nbconvert_exporter": "python",
   "pygments_lexer": "ipython2",
   "version": "2.7.12"
  }
 },
 "nbformat": 4,
 "nbformat_minor": 0
}
